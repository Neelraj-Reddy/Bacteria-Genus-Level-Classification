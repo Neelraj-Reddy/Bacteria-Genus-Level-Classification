{
 "cells": [
  {
   "cell_type": "code",
   "execution_count": 13,
   "metadata": {},
   "outputs": [
    {
     "name": "stdout",
     "output_type": "stream",
     "text": [
      "6 patches saved for Neisseria.gonorrhoeae_0001.tif\n",
      "6 patches saved for Neisseria.gonorrhoeae_0002.tif\n",
      "6 patches saved for Neisseria.gonorrhoeae_0003.tif\n",
      "6 patches saved for Neisseria.gonorrhoeae_0004.tif\n",
      "6 patches saved for Neisseria.gonorrhoeae_0005.tif\n",
      "6 patches saved for Neisseria.gonorrhoeae_0006.tif\n",
      "6 patches saved for Neisseria.gonorrhoeae_0007.tif\n",
      "6 patches saved for Neisseria.gonorrhoeae_0008.tif\n",
      "6 patches saved for Neisseria.gonorrhoeae_0009.tif\n",
      "6 patches saved for Neisseria.gonorrhoeae_0010.tif\n",
      "6 patches saved for Neisseria.gonorrhoeae_0011.tif\n",
      "6 patches saved for Neisseria.gonorrhoeae_0012.tif\n",
      "6 patches saved for Neisseria.gonorrhoeae_0013.tif\n",
      "6 patches saved for Neisseria.gonorrhoeae_0014.tif\n",
      "6 patches saved for Neisseria.gonorrhoeae_0015.tif\n",
      "6 patches saved for Neisseria.gonorrhoeae_0016.tif\n",
      "6 patches saved for Neisseria.gonorrhoeae_0017.tif\n",
      "6 patches saved for Neisseria.gonorrhoeae_0018.tif\n",
      "6 patches saved for Neisseria.gonorrhoeae_0019.tif\n",
      "6 patches saved for Neisseria.gonorrhoeae_0020.tif\n",
      "6 patches saved for Neisseria.gonorrhoeae_0021.tif\n",
      "6 patches saved for Neisseria.gonorrhoeae_0022.tif\n",
      "6 patches saved for Neisseria.gonorrhoeae_0023.tif\n"
     ]
    }
   ],
   "source": [
    "import cv2\n",
    "import os\n",
    "\n",
    "def extract_and_save_patches_from_directory(input_dir, patch_size, output_dir, upscale_factor=2):\n",
    "    # Create the output directory if it doesn't exist\n",
    "    os.makedirs(output_dir, exist_ok=True)\n",
    "    \n",
    "    # Get the list of image files in the input directory\n",
    "    image_files = [f for f in os.listdir(input_dir) if f.endswith('.tif')]\n",
    "\n",
    "    # Process each image file\n",
    "    for image_file in image_files:\n",
    "        image_path = os.path.join(input_dir, image_file)\n",
    "        # Load the image\n",
    "        image = cv2.imread(image_path)\n",
    "        height, width, _ = image.shape\n",
    "\n",
    "        patch_count = 0\n",
    "        for y in range(0, height, patch_size):\n",
    "            for x in range(0, width, patch_size):\n",
    "                patch = image[y:y+patch_size, x:x+patch_size]\n",
    "                # Ensure the patch size is correct (for patches at the image boundaries)\n",
    "                if patch.shape[:2] == (patch_size, patch_size):\n",
    "                    # Upscale the patch resolution using bicubic interpolation\n",
    "                    patch_upscaled = cv2.resize(patch, None, fx=upscale_factor, fy=upscale_factor, interpolation=cv2.INTER_CUBIC)\n",
    "                    # Save the patch to a file\n",
    "                    patch_filename = os.path.join(output_dir, f'{os.path.splitext(image_file)[0]}_patch_{patch_count}.tif')\n",
    "                    cv2.imwrite(patch_filename, patch_upscaled)\n",
    "                    patch_count += 1\n",
    "        \n",
    "        print(f'{patch_count} patches saved for {image_file}')\n",
    "\n",
    "# Example usage\n",
    "input_dir = r'data\\Neisseria.gonorrhoeae'\n",
    "patch_size = 640\n",
    "output_dir = 'Neisseria_gonorrhoeae'\n",
    "upscale_factor = 5  # Adjust this factor as needed\n",
    "extract_and_save_patches_from_directory(input_dir, patch_size, output_dir, upscale_factor)"
   ]
  }
 ],
 "metadata": {
  "kernelspec": {
   "display_name": "Python 3",
   "language": "python",
   "name": "python3"
  },
  "language_info": {
   "codemirror_mode": {
    "name": "ipython",
    "version": 3
   },
   "file_extension": ".py",
   "mimetype": "text/x-python",
   "name": "python",
   "nbconvert_exporter": "python",
   "pygments_lexer": "ipython3",
   "version": "3.10.0rc1"
  }
 },
 "nbformat": 4,
 "nbformat_minor": 2
}
