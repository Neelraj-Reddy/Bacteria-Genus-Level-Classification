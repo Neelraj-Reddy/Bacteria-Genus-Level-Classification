{
 "cells": [
  {
   "cell_type": "code",
   "execution_count": 2,
   "metadata": {},
   "outputs": [],
   "source": [
    "import os\n",
    "import tensorflow as tf\n",
    "from tensorflow.keras import layers, models\n",
    "from tensorflow.keras.preprocessing.image import ImageDataGenerator"
   ]
  },
  {
   "cell_type": "code",
   "execution_count": 3,
   "metadata": {},
   "outputs": [
    {
     "name": "stdout",
     "output_type": "stream",
     "text": [
      "Found 1040 images belonging to 10 classes.\n",
      "Found 255 images belonging to 10 classes.\n"
     ]
    }
   ],
   "source": [
    "\n",
    "\n",
    "# Define your dataset directory\n",
    "dataset_dir = 'dataset'\n",
    "\n",
    "# Define image size and batch size\n",
    "img_height, img_width = 640, 640\n",
    "batch_size = 32\n",
    "\n",
    "# Create an ImageDataGenerator for data augmentation and preprocessing\n",
    "train_datagen = ImageDataGenerator(\n",
    "    rescale=1./255,\n",
    "    shear_range=0.2,\n",
    "    zoom_range=0.2,\n",
    "    horizontal_flip=True,\n",
    "    validation_split=0.2  # Splitting data into training and validation sets\n",
    ")\n",
    "\n",
    "# Load and prepare training data\n",
    "train_data = train_datagen.flow_from_directory(\n",
    "    dataset_dir,\n",
    "    target_size=(img_height, img_width),\n",
    "    batch_size=batch_size,\n",
    "    class_mode='categorical',\n",
    "    subset='training'\n",
    ")\n",
    "\n",
    "# Load and prepare validation data\n",
    "val_data = train_datagen.flow_from_directory(\n",
    "    dataset_dir,\n",
    "    target_size=(img_height, img_width),\n",
    "    batch_size=batch_size,\n",
    "    class_mode='categorical',\n",
    "    subset='validation'\n",
    ")\n",
    "\n"
   ]
  },
  {
   "cell_type": "code",
   "execution_count": 7,
   "metadata": {},
   "outputs": [
    {
     "name": "stdout",
     "output_type": "stream",
     "text": [
      "Model: \"model_1\"\n",
      "_________________________________________________________________\n",
      " Layer (type)                Output Shape              Param #   \n",
      "=================================================================\n",
      " input_2 (InputLayer)        [(None, 640, 640, 3)]     0         \n",
      "                                                                 \n",
      " sequential_1 (Sequential)   (None, 184832)            240832    \n",
      "                                                                 \n",
      " reshape_1 (Reshape)         (None, 1, 184832)         0         \n",
      "                                                                 \n",
      " lstm_1 (LSTM)               (None, 64)                47333632  \n",
      "                                                                 \n",
      " dense_1 (Dense)             (None, 10)                650       \n",
      "                                                                 \n",
      "=================================================================\n",
      "Total params: 47575114 (181.48 MB)\n",
      "Trainable params: 47575114 (181.48 MB)\n",
      "Non-trainable params: 0 (0.00 Byte)\n",
      "_________________________________________________________________\n"
     ]
    }
   ],
   "source": [
    "import tensorflow as tf\n",
    "from tensorflow.keras import layers, models\n",
    "\n",
    "# Define your dataset directory and other parameters\n",
    "dataset_dir = 'dataset'\n",
    "img_height, img_width = 640, 640\n",
    "num_classes = 10  # Specify the number of classes in your dataset\n",
    "\n",
    "# Define the CNN-LSTM model\n",
    "inputs = layers.Input(shape=(img_height, img_width, 3))  # Input shape for the images\n",
    "\n",
    "# CNN feature extractor\n",
    "cnn = models.Sequential([\n",
    "    layers.Conv2D(32, (3, 3), activation='relu', input_shape=(img_height, img_width, 3)),\n",
    "    layers.MaxPooling2D((2, 2)),\n",
    "    layers.Conv2D(64, (3, 3), activation='relu'),\n",
    "    layers.MaxPooling2D((2, 2)),\n",
    "    layers.Conv2D(128, (3, 3), activation='relu'),\n",
    "    layers.MaxPooling2D((2, 2)),\n",
    "    layers.Conv2D(128, (3, 3), activation='relu'),\n",
    "    layers.MaxPooling2D((2, 2)),\n",
    "    layers.Flatten()\n",
    "])\n",
    "cnn_outputs = cnn(inputs)\n",
    "\n",
    "# Reshape CNN output for LSTM input\n",
    "cnn_outputs = layers.Reshape((1, cnn_outputs.shape[1]))(cnn_outputs)\n",
    "\n",
    "# LSTM layer\n",
    "lstm_out = layers.LSTM(64)(cnn_outputs)\n",
    "\n",
    "# Dense layers for classification\n",
    "outputs = layers.Dense(num_classes, activation='softmax')(lstm_out)\n",
    "\n",
    "# Create the model\n",
    "model = models.Model(inputs=inputs, outputs=outputs)\n",
    "\n",
    "# Compile the model\n",
    "model.compile(optimizer='adam',\n",
    "              loss='categorical_crossentropy',\n",
    "              metrics=['accuracy'])\n",
    "\n",
    "# Display the model summary\n",
    "model.summary()\n"
   ]
  },
  {
   "cell_type": "code",
   "execution_count": 8,
   "metadata": {},
   "outputs": [
    {
     "name": "stdout",
     "output_type": "stream",
     "text": [
      "Epoch 1/10\n",
      "33/33 [==============================] - 190s 6s/step - loss: 2.3334 - accuracy: 0.1212 - val_loss: 2.2646 - val_accuracy: 0.1098\n",
      "Epoch 2/10\n",
      "33/33 [==============================] - 176s 5s/step - loss: 2.0353 - accuracy: 0.2337 - val_loss: 1.6912 - val_accuracy: 0.3922\n",
      "Epoch 3/10\n",
      "33/33 [==============================] - 174s 5s/step - loss: 1.4945 - accuracy: 0.4673 - val_loss: 1.2953 - val_accuracy: 0.5529\n",
      "Epoch 4/10\n",
      "33/33 [==============================] - 185s 6s/step - loss: 1.2307 - accuracy: 0.5606 - val_loss: 1.2494 - val_accuracy: 0.4784\n",
      "Epoch 5/10\n",
      "33/33 [==============================] - 1202s 37s/step - loss: 1.0842 - accuracy: 0.6240 - val_loss: 0.9615 - val_accuracy: 0.6078\n",
      "Epoch 6/10\n",
      "33/33 [==============================] - 177s 5s/step - loss: 0.8718 - accuracy: 0.7183 - val_loss: 0.9377 - val_accuracy: 0.6706\n",
      "Epoch 7/10\n",
      "33/33 [==============================] - 176s 5s/step - loss: 0.8982 - accuracy: 0.6798 - val_loss: 0.8346 - val_accuracy: 0.7059\n",
      "Epoch 8/10\n",
      "33/33 [==============================] - 175s 5s/step - loss: 0.9476 - accuracy: 0.6683 - val_loss: 0.8350 - val_accuracy: 0.7333\n",
      "Epoch 9/10\n",
      "33/33 [==============================] - 173s 5s/step - loss: 0.6700 - accuracy: 0.8106 - val_loss: 0.7625 - val_accuracy: 0.7020\n",
      "Epoch 10/10\n",
      "33/33 [==============================] - 174s 5s/step - loss: 0.5701 - accuracy: 0.8317 - val_loss: 0.7324 - val_accuracy: 0.7451\n"
     ]
    }
   ],
   "source": [
    "# Train the model\n",
    "history = model.fit(\n",
    "    train_data,\n",
    "    epochs=10,\n",
    "    batch_size=batch_size,\n",
    "    validation_data=val_data\n",
    ")\n"
   ]
  }
 ],
 "metadata": {
  "kernelspec": {
   "display_name": "Python 3",
   "language": "python",
   "name": "python3"
  },
  "language_info": {
   "codemirror_mode": {
    "name": "ipython",
    "version": 3
   },
   "file_extension": ".py",
   "mimetype": "text/x-python",
   "name": "python",
   "nbconvert_exporter": "python",
   "pygments_lexer": "ipython3",
   "version": "3.10.0"
  }
 },
 "nbformat": 4,
 "nbformat_minor": 2
}
